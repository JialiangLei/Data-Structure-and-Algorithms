{
 "cells": [
  {
   "cell_type": "markdown",
   "id": "c96e3eac",
   "metadata": {},
   "source": [
    "### 1."
   ]
  },
  {
   "cell_type": "code",
   "execution_count": 1,
   "id": "635c32ac",
   "metadata": {},
   "outputs": [
    {
     "name": "stdout",
     "output_type": "stream",
     "text": [
      "请输入分子3\n",
      "请输入分母4\n",
      "分子:3\n",
      "分母:4\n"
     ]
    }
   ],
   "source": [
    "class Fraction:\n",
    "    \n",
    "    def __init__(self,num,den):\n",
    "        self.num = num\n",
    "        self.den = den\n",
    "        \n",
    "    def getnum(self):\n",
    "        return self.num\n",
    "    \n",
    "    def getden(self):\n",
    "        return self.den\n",
    "\n",
    "x = int(input(\"请输入分子\"))\n",
    "y = int(input(\"请输入分母\"))\n",
    "f = Fraction(x,y)\n",
    "num = f.getnum()\n",
    "den = f.getden()\n",
    "print(\"分子:\" + str(num))\n",
    "print(\"分母:\" + str(den))"
   ]
  },
  {
   "cell_type": "markdown",
   "id": "14836d28",
   "metadata": {},
   "source": [
    "### 2."
   ]
  },
  {
   "cell_type": "code",
   "execution_count": 7,
   "id": "10a341d6",
   "metadata": {},
   "outputs": [
    {
     "name": "stdout",
     "output_type": "stream",
     "text": [
      "-1/2\n",
      "3/5\n",
      "1/10\n"
     ]
    }
   ],
   "source": [
    "class Fraction:\n",
    "    def __init__(self,num,den):\n",
    "        gcd = self.getGcd(num,den)\n",
    "        self.num = num // gcd  \n",
    "        self.den = den // gcd \n",
    "    def add(self, other):\n",
    "        newnum = int(self.num * other.den + self.den * other.num)\n",
    "        newden = int(self.den * other.den)\n",
    "        f = Fraction(newnum, newden)\n",
    "        return f\n",
    "    def getGcd(self,num1,num2):\n",
    "        while num1 % num2 != 0:\n",
    "            temp1 = num1\n",
    "            temp2 = num2\n",
    "            num1 = temp2\n",
    "            num2 = temp1 % temp2\n",
    "        return num2\n",
    "    def str(self):\n",
    "        print(str(self.num) + \"/\" + str(self.den))\n",
    "\n",
    "a = Fraction(-2, 4)\n",
    "b = Fraction(3, 5)\n",
    "c = a.add(b)\n",
    "a.str()\n",
    "b.str()\n",
    "c.str()"
   ]
  },
  {
   "cell_type": "markdown",
   "id": "1d743f6d",
   "metadata": {},
   "source": [
    "### 3."
   ]
  },
  {
   "cell_type": "code",
   "execution_count": 3,
   "id": "d811dbfc",
   "metadata": {},
   "outputs": [
    {
     "name": "stdout",
     "output_type": "stream",
     "text": [
      "5/6\n",
      "1/6\n",
      "1/6\n",
      "3/2\n"
     ]
    }
   ],
   "source": [
    "class Fraction:\n",
    "    def __init__(self,num,den):\n",
    "        gcd = self.getgcd(num,den)\n",
    "        self.num = num // gcd\n",
    "        self.den = den // gcd\n",
    "\n",
    "    def __add__(self,other):\n",
    "        newnum = self.num * other.den + self.den * other.num\n",
    "        newden = self.den * other.den\n",
    "        x = int(newnum)\n",
    "        y = int(newden)\n",
    "        f = Fraction(x,y)\n",
    "        return f\n",
    "\n",
    "    def getgcd(self,m,n):\n",
    "        while m%n != 0:\n",
    "            oldm = m\n",
    "            oldn = n\n",
    "            m = oldn\n",
    "            n = oldm%oldn\n",
    "        return n\n",
    "    \n",
    "    def __str__(self):\n",
    "        return str(self.num) + \"/\" + str(self.den)\n",
    "\n",
    "    def __sub__(self,other):\n",
    "        newnum = self.num * other.den - self.den * other.num\n",
    "        newden = self.den * other.den\n",
    "        x = int(newnum)\n",
    "        y = int(newden)\n",
    "        f = Fraction(x,y)\n",
    "        return f\n",
    "    \n",
    "    def __mul__(self,other):\n",
    "        newnum = self.num * other.num\n",
    "        newden = self.den * other.den\n",
    "        x = int(newnum)\n",
    "        y = int(newden)\n",
    "        f = Fraction(x,y)\n",
    "        return f\n",
    "    \n",
    "    def __truediv__(self,other):\n",
    "        if self.den == 0 or other.den == 0:\n",
    "            newnum = 0\n",
    "            newden = 1\n",
    "        else :\n",
    "            newnum = self.num * other.den\n",
    "            newden = self.den * other.num\n",
    "        x = int(newnum)\n",
    "        y = int(newden)\n",
    "        f = Fraction(x,y)\n",
    "        return f\n",
    "    def __ge__(self,other):\n",
    "        if self.num / self.den >= other.num / other.den:\n",
    "            return True\n",
    "        else:\n",
    "            return False\n",
    "                 \n",
    "f1 = Fraction(1,2)\n",
    "f2 = Fraction(1,3)\n",
    "a = f1 + f2\n",
    "b = f1 - f2\n",
    "c = f1 * f2\n",
    "d = f1 / f2\n",
    "print(a)\n",
    "print(b)\n",
    "print(c)\n",
    "print(d)"
   ]
  },
  {
   "cell_type": "markdown",
   "id": "635dd1d3",
   "metadata": {},
   "source": [
    "### 4."
   ]
  },
  {
   "cell_type": "code",
   "execution_count": 5,
   "id": "75e2cacf",
   "metadata": {},
   "outputs": [
    {
     "name": "stdout",
     "output_type": "stream",
     "text": [
      "True\n"
     ]
    }
   ],
   "source": [
    "class Fraction:\n",
    "    def __init__(self,num,den):\n",
    "        gcd = self.getGcd(num,den)\n",
    "        self.num = num // gcd  \n",
    "        self.den = den // gcd \n",
    "    def getGcd(self,num1,num2):\n",
    "        while num1 % num2 != 0:\n",
    "            temp1 = num1\n",
    "            temp2 = num2\n",
    "            num1 = temp2\n",
    "            num2 = temp1 % temp2\n",
    "        return num2\n",
    "    def gt(self, other):\n",
    "        if self.num / self.den > other.num / other.den:\n",
    "            return True\n",
    "        else:\n",
    "            return False\n",
    "    def lt(self, other):\n",
    "        if self.num / self.den < other.num / other.den:\n",
    "            return True\n",
    "        else:\n",
    "            return False\n",
    "\n",
    "    def ge(self, other):  \n",
    "        if self.num / self.den >= other.num / other.den:\n",
    "            return True\n",
    "        else:\n",
    "            return False\n",
    "    def le(self, other):  \n",
    "        if self.num / self.den <= other.num / other.den:\n",
    "            return True\n",
    "        else:\n",
    "            return False\n",
    "    def ne(self, other):  \n",
    "        if self.num / self.den != other.num / other.den:\n",
    "            return True\n",
    "        else:\n",
    "            return False\n",
    "a = Fraction(2, 6)\n",
    "b = Fraction(1, 3)\n",
    "print(a.ge(b))"
   ]
  },
  {
   "cell_type": "markdown",
   "id": "bfa622c4",
   "metadata": {},
   "source": [
    "### 5."
   ]
  },
  {
   "cell_type": "code",
   "execution_count": 6,
   "id": "cf9f21e4",
   "metadata": {},
   "outputs": [
    {
     "name": "stdout",
     "output_type": "stream",
     "text": [
      "error\n",
      "<__main__.Fraction object at 0x000002D2862307C8>\n"
     ]
    }
   ],
   "source": [
    "class Fraction:\n",
    "    def __init__(self,num,den):\n",
    "        if isinstance(num,int) and isinstance(den,int) :\n",
    "            print('right')\n",
    "        else:\n",
    "            print('error')\n",
    "\n",
    "a = Fraction(3, 4.1)\n",
    "print(a)"
   ]
  },
  {
   "cell_type": "markdown",
   "id": "bd79cd88",
   "metadata": {},
   "source": [
    "### 7."
   ]
  },
  {
   "cell_type": "code",
   "execution_count": 2,
   "id": "ca58f43d",
   "metadata": {},
   "outputs": [
    {
     "name": "stdout",
     "output_type": "stream",
     "text": [
      "11/12\n"
     ]
    }
   ],
   "source": [
    "class Fraction:\n",
    "    def __init__(self,num,den):\n",
    "        if isinstance(num,int) and isinstance(den,int) :\n",
    "            gcd = self.getGcd(num,den)\n",
    "            self.num = num // gcd  \n",
    "            self.den = den // gcd \n",
    "        else:\n",
    "            print(\"数据错误\")\n",
    "    def __str__(self):\n",
    "        return str(self.num) + \"/\" + str(self.den)\n",
    "    def getGcd(self,num1,num2):\n",
    "        while num1 % num2 != 0:\n",
    "            temp1 = num1\n",
    "            temp2 = num2\n",
    "            num1 = temp2\n",
    "            num2 = temp1 % temp2\n",
    "        return num2\n",
    "    def __radd__(self, other):\n",
    "        newnum = int(self.num * other.den + self.den * other.num)\n",
    "        newden = int(self.den * other.den)\n",
    "        f = Fraction(newnum, newden)\n",
    "        return f\n",
    "a = Fraction(2, 3)\n",
    "b = Fraction(1, 4)\n",
    "print(a.__radd__(b))"
   ]
  },
  {
   "cell_type": "markdown",
   "id": "5ae0574d",
   "metadata": {},
   "source": [
    "### 8."
   ]
  },
  {
   "cell_type": "code",
   "execution_count": 3,
   "id": "8a3869ff",
   "metadata": {},
   "outputs": [
    {
     "name": "stdout",
     "output_type": "stream",
     "text": [
      "11/12\n"
     ]
    }
   ],
   "source": [
    "class Fraction:\n",
    "    def __init__(self,num,den):\n",
    "        if isinstance(num,int) and isinstance(den,int) :\n",
    "            gcd = self.getGcd(num,den)\n",
    "            self.num = num // gcd  \n",
    "            self.den = den // gcd \n",
    "        else:\n",
    "            print(\"数据错误\")\n",
    "    def __str__(self):\n",
    "        return str(self.num) + \"/\" + str(self.den)\n",
    "    def getGcd(self,num1,num2):\n",
    "        while num1 % num2 != 0:\n",
    "            temp1 = num1\n",
    "            temp2 = num2\n",
    "            num1 = temp2\n",
    "            num2 = temp1 % temp2\n",
    "        return num2\n",
    "    def __iadd__(self, other):\n",
    "        newnum = int(self.num * other.den + self.den * other.num)\n",
    "        newden = int(self.den * other.den)\n",
    "        self.num = newnum\n",
    "        self.den = newden\n",
    "        f = Fraction(self.num, self.den)\n",
    "        return f\n",
    "a = Fraction(2, 3)\n",
    "b = Fraction(1, 4)\n",
    "print(a.__iadd__(b))"
   ]
  },
  {
   "cell_type": "markdown",
   "id": "196d4edc",
   "metadata": {},
   "source": [
    "### 9."
   ]
  },
  {
   "cell_type": "code",
   "execution_count": 6,
   "id": "cb7491cc",
   "metadata": {},
   "outputs": [
    {
     "name": "stdout",
     "output_type": "stream",
     "text": [
      "140723205799136\n"
     ]
    }
   ],
   "source": [
    "def __repr__(num):\n",
    "    return id(num)\n",
    "a = 6\n",
    "print(__repr__(a))"
   ]
  },
  {
   "cell_type": "markdown",
   "id": "845b9075",
   "metadata": {},
   "source": [
    "### 10."
   ]
  },
  {
   "cell_type": "code",
   "execution_count": 1,
   "id": "bace2d8e",
   "metadata": {},
   "outputs": [
    {
     "name": "stdout",
     "output_type": "stream",
     "text": [
      "Enter Pin A input for gateG1-->1\n",
      "Enter Pin B input for gateG1-->1\n"
     ]
    },
    {
     "data": {
      "text/plain": [
       "0"
      ]
     },
     "execution_count": 1,
     "metadata": {},
     "output_type": "execute_result"
    }
   ],
   "source": [
    "class LogicGate:\n",
    "    def __init__(self, n):\n",
    "        self.label = n\n",
    "        self.output = None\n",
    "    def getLabel(self):\n",
    "        return self.label\n",
    "    def getOutput(self):\n",
    "        self.output = self.performGateLogic()\n",
    "        return self.output\n",
    "class BinaryGate(LogicGate):\n",
    "    def __init__(self, n):\n",
    "        super().__init__(n)\n",
    "        self.pinA = None\n",
    "        self.pinB = None\n",
    "    def getPinA(self):\n",
    "        return int(input(\"Enter Pin A input for gate\" + self.getLabel() + \"-->\"))\n",
    "    def getPinB(self):\n",
    "        return int(input(\"Enter Pin B input for gate\" + self.getLabel() + \"-->\"))\n",
    "class AndnonGate(BinaryGate):\n",
    "    def __init__(self,n):\n",
    "        super().__init__(n)\n",
    "    def performGateLogic(self):\n",
    "\n",
    "        a = self.getPinA()\n",
    "        b = self.getPinB()\n",
    "\n",
    "        if a == 1 and b == 1:\n",
    "            return 0\n",
    "        else:\n",
    "            return 1\n",
    "class NorGate(BinaryGate):\n",
    "    def __init__(self,n):\n",
    "        super().__init__(n)\n",
    "    def performGateLogic(self):\n",
    "\n",
    "        a = self.getPinA()\n",
    "        b = self.getPinB()\n",
    "\n",
    "        if a == 0 and b == 0:\n",
    "            return 1\n",
    "        else:\n",
    "            return 0\n",
    "class EorGate(BinaryGate):\n",
    "    def __init__(self,n):\n",
    "        super().__init__(n)\n",
    "    def performGateLogic(self):\n",
    "\n",
    "        a = self.getPinA()\n",
    "        b = self.getPinB()\n",
    "\n",
    "        if a == b:\n",
    "            return 1\n",
    "        else:\n",
    "            return 0\n",
    "        \n",
    "g1 = AndnonGate(\"G1\")\n",
    "g1.getOutput()\n"
   ]
  },
  {
   "cell_type": "markdown",
   "id": "b6e5eadf",
   "metadata": {},
   "source": [
    "### 11."
   ]
  },
  {
   "cell_type": "code",
   "execution_count": null,
   "id": "2657ebb2",
   "metadata": {},
   "outputs": [],
   "source": [
    "class LogicGate:\n",
    "\n",
    "    def __init__(self,n):\n",
    "        self.label = n\n",
    "        self.output = None\n",
    "\n",
    "    def getLabel(self):\n",
    "        return self.label\n",
    "\n",
    "    def getOutput(self):\n",
    "        self.output = self.performGateLogic()\n",
    "        return self.output \n",
    "\n",
    "class BinaryGate(LogicGate):\n",
    "\n",
    "    def __init__(self,n):\n",
    "        super().__init__(n)\n",
    "\n",
    "        self.pinA = None\n",
    "        self.pinB = None\n",
    "\n",
    "    def getPinA(self):\n",
    "        if self.pinA == None:\n",
    "            return int(input(\"Enter Pin A input for gate \" + self.getLabel() + \\\n",
    "                         \"-->\"))\n",
    "        else:\n",
    "            return self.pinA\n",
    "\n",
    "    def getPinB(self):\n",
    "        if self.pinB == None:\n",
    "            return int(input(\"Enter Pin B input for gate \" + self.getLabel() + \\\n",
    "                         \"-->\"))\n",
    "        else:\n",
    "            return self.pinB\n",
    "\n",
    "    def setNextPin(self,pinA,pinB):\n",
    "        if self.pinA == None:\n",
    "            self.pinA = pinA\n",
    "        if self.pinB == None:\n",
    "            self.pinB = pinB\n",
    "\n",
    "class AndGate(BinaryGate):\n",
    "\n",
    "    def __init__(self,n):\n",
    "        super().__init__(n)\n",
    "\n",
    "    def performGateLogic(self):\n",
    "\n",
    "        a = self.getPinA()\n",
    "        b = self.getPinB()\n",
    "\n",
    "        if a == 1 and b == 1:\n",
    "            return 1\n",
    "        else:\n",
    "            return 0\n",
    "\n",
    "class EorGate(BinaryGate):\n",
    "\n",
    "    def __init__(self,n):\n",
    "        super().__init__(n)\n",
    "\n",
    "    def performGateLogic(self):\n",
    "\n",
    "        a = self.getPinA()\n",
    "        b = self.getPinB()\n",
    "\n",
    "        if a == b:\n",
    "            return 0\n",
    "        else:\n",
    "            return 1\n",
    "\n",
    "class HalfAdder():\n",
    "    def __init__(self,pinA,pinB):\n",
    "        c = AndGate(\"G2\")\n",
    "        c.setNextPin(pinA,pinB)\n",
    "        c = c.getOutput()\n",
    "\n",
    "        s = EorGate(\"G1\")\n",
    "        s.setNextPin(pinA,pinB)\n",
    "        s = s.getOutput()\n",
    "\n",
    "        print(s,c)\n",
    "\n",
    "x = int(input(\"被加数A \"))\n",
    "y = int(input(\"加数B \"))\n",
    "HalfAdder(x, y)\n",
    "               "
   ]
  },
  {
   "cell_type": "markdown",
   "id": "272158a2",
   "metadata": {},
   "source": [
    "### 12."
   ]
  },
  {
   "cell_type": "code",
   "execution_count": null,
   "id": "2db00bd5",
   "metadata": {},
   "outputs": [],
   "source": [
    "class LogicGate:\n",
    "\n",
    "    def __init__(self,n):\n",
    "        self.label = n\n",
    "        self.output = None\n",
    "\n",
    "    def getLabel(self):\n",
    "        return self.label\n",
    "\n",
    "    def getOutput(self):\n",
    "        self.output = self.performGateLogic()\n",
    "        return self.output\n",
    "\n",
    "class BinaryGate(LogicGate):\n",
    "\n",
    "    def __init__(self,n):\n",
    "        super().__init__(n)\n",
    "\n",
    "        self.pinA = None\n",
    "        self.pinB = None\n",
    "\n",
    "    def getPinA(self):\n",
    "        if self.pinA == None:\n",
    "            return int(input(\"Enter Pin A input for gate \" + self.getLabel() + \\\n",
    "                         \"-->\"))\n",
    "        else:\n",
    "            return self.pinA\n",
    "\n",
    "    def getPinB(self):\n",
    "        if self.pinB == None:\n",
    "            return int(input(\"Enter Pin B input for gate \" + self.getLabel() + \\\n",
    "                         \"-->\"))\n",
    "        else:\n",
    "            return self.pinB\n",
    "\n",
    "    def setNextPin(self,pinA,pinB):\n",
    "        if self.pinA == None:\n",
    "            self.pinA = pinA\n",
    "        if self.pinB == None:\n",
    "            self.pinB = pinB\n",
    "\n",
    "class AndGate(BinaryGate):\n",
    "\n",
    "    def __init__(self,n):\n",
    "        super().__init__(n)\n",
    "\n",
    "    def performGateLogic(self):\n",
    "\n",
    "        a = self.getPinA()\n",
    "        b = self.getPinB()\n",
    "\n",
    "        if a == 1 and b == 1:\n",
    "            return 1\n",
    "        else:\n",
    "            return 0\n",
    "\n",
    "class EorGate(BinaryGate):\n",
    "\n",
    "    def __init__(self,n):\n",
    "        super().__init__(n)\n",
    "\n",
    "    def performGateLogic(self):\n",
    "\n",
    "        a = self.getPinA()\n",
    "        b = self.getPinB()\n",
    "\n",
    "        if a == b:\n",
    "            return 0\n",
    "        else:\n",
    "            return 1\n",
    "\n",
    "class OrGate(BinaryGate):\n",
    "    \n",
    "    def __init__(self,n):\n",
    "        super().__init__(n)\n",
    "\n",
    "    def performGateLogic(self):\n",
    "\n",
    "        a = self.getPinA()\n",
    "        b = self.getPinB()\n",
    "\n",
    "        if a == 1 or b == 1:\n",
    "            return 1\n",
    "        else:\n",
    "            return 0\n",
    "        \n",
    "def HalfAdder(pinA,pinB):\n",
    "    c = AndGate(\"G2\")\n",
    "    c.setNextPin(pinA,pinB)\n",
    "    c = c.getOutput()\n",
    "\n",
    "    s = EorGate(\"G1\")\n",
    "    s.setNextPin(pinA,pinB)\n",
    "    s = s.getOutput()\n",
    "\n",
    "    return s,c\n",
    "    \n",
    "        \n",
    "\n",
    "def FullAdder(pinA,pinB,pinC):\n",
    "    s1,c1 = HalfAdder(pinA,pinB)\n",
    "    s,c2 = HalfAdder(s1,pinC)\n",
    "    c = OrGate('G3')\n",
    "    c.setNextPin(c1,c2)\n",
    "    c = c.getOutput()\n",
    "    return s,c\n",
    "    \n",
    "       \n",
    "\n",
    "s,c = FullAdder(1,0,0)\n",
    "print(s,c)"
   ]
  },
  {
   "cell_type": "markdown",
   "id": "601d567f",
   "metadata": {},
   "source": [
    "### 14."
   ]
  },
  {
   "cell_type": "code",
   "execution_count": 4,
   "id": "059fe1e5",
   "metadata": {},
   "outputs": [
    {
     "name": "stdout",
     "output_type": "stream",
     "text": [
      "['红桃11', '黑桃1', '红桃9', '梅花5', '梅花6', '梅花13', '黑桃12', '红桃8', '黑桃5', '红桃13', '梅花10', '黑桃2', '方块10', '黑桃9', '方块1', '红桃5', '大王', '红桃12']\n",
      "['方块6', '方块12', '红桃6', '方块13', '梅花1', '黑桃13', '小王', '黑桃4', '梅花7', '红桃7', '红桃3', '梅花4', '梅花11', '方块7', '方块4', '梅花2', '方块2', '方块9']\n",
      "['梅花3', '黑桃7', '方块11', '方块8', '红桃10', '红桃2', '黑桃3', '红桃1', '方块5', '梅花9', '梅花8', '黑桃6', '黑桃11', '梅花12', '红桃4', '黑桃10', '方块3', '黑桃8']\n"
     ]
    }
   ],
   "source": [
    "import random\n",
    "\n",
    "class 扑克牌:\n",
    "\n",
    "    def __init__(self):\n",
    "        self.allcards = [\"大王\",\"小王\"]\n",
    "        for i in range(1,14):\n",
    "            for k in [\"红桃\",\"黑桃\",\"梅花\",\"方块\"]:\n",
    "                self.allcards.append(k + str(i))\n",
    "\n",
    "    def 洗牌(self):\n",
    "        random.shuffle(self.allcards)\n",
    "\n",
    "    def 发牌(self,n=18):\n",
    "        owncard1 = []\n",
    "        owncard2 = []\n",
    "        owncard3 = []\n",
    "        \n",
    "        for i in range(n):\n",
    "            owncard1.append(self.allcards.pop())\n",
    "        for j in range(n):\n",
    "            owncard2.append(self.allcards.pop())\n",
    "        for k in range(n):\n",
    "            owncard3.append(self.allcards.pop())\n",
    "\n",
    "        print(owncard1)\n",
    "        print(owncard2)\n",
    "        print(owncard3)\n",
    "\n",
    "card = 扑克牌()\n",
    "card.洗牌()\n",
    "card.发牌()"
   ]
  },
  {
   "cell_type": "code",
   "execution_count": null,
   "id": "79f09fcc",
   "metadata": {},
   "outputs": [],
   "source": []
  }
 ],
 "metadata": {
  "kernelspec": {
   "display_name": "Python 3 (ipykernel)",
   "language": "python",
   "name": "python3"
  },
  "language_info": {
   "codemirror_mode": {
    "name": "ipython",
    "version": 3
   },
   "file_extension": ".py",
   "mimetype": "text/x-python",
   "name": "python",
   "nbconvert_exporter": "python",
   "pygments_lexer": "ipython3",
   "version": "3.7.9"
  }
 },
 "nbformat": 4,
 "nbformat_minor": 5
}
