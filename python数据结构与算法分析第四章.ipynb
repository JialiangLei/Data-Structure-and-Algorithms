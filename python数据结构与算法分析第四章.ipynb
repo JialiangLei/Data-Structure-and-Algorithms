{
 "cells": [
  {
   "cell_type": "markdown",
   "id": "8481ce74",
   "metadata": {},
   "source": [
    "### 1."
   ]
  },
  {
   "cell_type": "code",
   "execution_count": null,
   "id": "46a62729",
   "metadata": {},
   "outputs": [],
   "source": [
    "def factorial(num):\n",
    "    if num == 1:\n",
    "        return num\n",
    "    else:\n",
    "        return num * factorial(num-1)\n",
    "\n",
    "num = int(input())\n",
    "print(factorial(num))"
   ]
  },
  {
   "cell_type": "markdown",
   "id": "d53be0f8",
   "metadata": {},
   "source": [
    "### 2."
   ]
  },
  {
   "cell_type": "code",
   "execution_count": null,
   "id": "2c5dfd2a",
   "metadata": {},
   "outputs": [],
   "source": [
    "r = []\n",
    "def reverseList(l, n):\n",
    "    if n<0:\n",
    "        return\n",
    "    else:\n",
    "        r.append(l[n])\n",
    "        reverseList(l,n-1)\n",
    "\n",
    "l=[1,2,3,4,5,6]\n",
    "n=len(l)-1\n",
    "reverseList(l, n)\n",
    "print(r)"
   ]
  },
  {
   "cell_type": "markdown",
   "id": "2dc2b5fe",
   "metadata": {},
   "source": [
    "### 3."
   ]
  },
  {
   "cell_type": "code",
   "execution_count": null,
   "id": "75bafeff",
   "metadata": {},
   "outputs": [],
   "source": [
    "from turtle import *\n",
    "import random\n",
    "def tree(branchLen):\n",
    "\n",
    "    if branchLen > 5:\n",
    "        width(branchLen / 10)\n",
    "        if branchLen < 40 :\n",
    "            color('green')\n",
    "        else:\n",
    "            color('black')\n",
    "        forward(branchLen)\n",
    "        a = random.randint(15, 30)\n",
    "        b = random.randint(30, 45)\n",
    "        length=random.randint(10,15)\n",
    "        right(a)\n",
    "        tree(branchLen-length)\n",
    "        left(b)\n",
    "        tree(branchLen-length)\n",
    "        right(b-a)\n",
    "        backward(branchLen)\n",
    "\n",
    "left(90)\n",
    "up()\n",
    "backward(300)\n",
    "down()\n",
    "tree(110)        \n"
   ]
  },
  {
   "cell_type": "markdown",
   "id": "dc37b9c4",
   "metadata": {},
   "source": [
    "### 4."
   ]
  },
  {
   "cell_type": "code",
   "execution_count": null,
   "id": "a8d0a258",
   "metadata": {},
   "outputs": [],
   "source": [
    "from turtle import *\n",
    "import random\n",
    "tup = [(0,0), (1000,0), (500,600)]\n",
    "\n",
    "def triangel(a,b,c,d,e,f):\n",
    "    \n",
    "    fillcolor('black')\n",
    "    begin_fill()\n",
    "    goto(a,b)\n",
    "    goto(c,d)\n",
    "    goto(e,f)\n",
    "    goto(a,b)\n",
    "    end_fill()\n",
    "\n",
    "def  mountain(a,b,c,d):\n",
    "    \n",
    "        e=(a+c)/2\n",
    "        f=(b+d)/2+random.randint(40,60)\n",
    "        triangel(a,b,c,d,e,f)\n",
    "\n",
    "        \n",
    "        if abs(c-a)> 20:\n",
    "            \n",
    "            mountain(a,b,e,f)\n",
    "            mountain(e,f,c,d)\n",
    "\n",
    "mountain(0,0,500,0)\n"
   ]
  },
  {
   "cell_type": "markdown",
   "id": "ad7c0718",
   "metadata": {},
   "source": [
    "### 5."
   ]
  },
  {
   "cell_type": "code",
   "execution_count": null,
   "id": "4c664e7e",
   "metadata": {},
   "outputs": [],
   "source": [
    "def fibonacci(n):\n",
    "    if n < 3:\n",
    "        return 1\n",
    "    else:\n",
    "        return fibonacci(n-1) + fibonacci(n-2)\n",
    "\n",
    "a = []\n",
    "b = int(input())\n",
    "for i in range(1,b+1):\n",
    "    a.append(fibonacci(i))\n",
    "\n",
    "print(a)"
   ]
  },
  {
   "cell_type": "markdown",
   "id": "495ca05b",
   "metadata": {},
   "source": [
    "### 6."
   ]
  },
  {
   "cell_type": "code",
   "execution_count": null,
   "id": "2c2a0e6b",
   "metadata": {},
   "outputs": [],
   "source": [
    "def movetower(height, frompole, withpole, topole):\n",
    "    if height>=1:\n",
    "        movetower(height-1, frompole, topole, withpole)\n",
    "        movedisk(height, frompole, topole)\n",
    "        movetower(height-1, withpole, frompole, topole)\n",
    "\n",
    "def movedisk(disk, frompole, topole):\n",
    "    print(\"moving disk from\" , frompole, \"to\", topole)\n",
    "\n",
    "movetower(3, \"#1\", \"#2\", \"#3\")"
   ]
  },
  {
   "cell_type": "markdown",
   "id": "2b2cdef4",
   "metadata": {},
   "source": [
    "### 7."
   ]
  },
  {
   "cell_type": "code",
   "execution_count": null,
   "id": "e1f6eb75",
   "metadata": {},
   "outputs": [],
   "source": [
    "from turtle import *\n",
    "def hilbert(level, angel, step):\n",
    "    if level == 0:\n",
    "        return\n",
    "\n",
    "        \n",
    "    right(angel)\n",
    "    hilbert(level-1, -angel, step)\n",
    "    forward(step)\n",
    "    left(angel)\n",
    "    hilbert(level-1, angel, step)\n",
    "    forward(step)\n",
    "    hilbert(level-1, angel, step)\n",
    "    left(angel)\n",
    "    forward(step)\n",
    "    hilbert(level-1, -angel, step)\n",
    "    right(angel)\n",
    "    \n",
    "\n",
    "size = 200\n",
    "level = int(input())\n",
    "hilbert(level, 90, size/(2**level-1))"
   ]
  },
  {
   "cell_type": "markdown",
   "id": "90cfe34d",
   "metadata": {},
   "source": [
    "### 8."
   ]
  },
  {
   "cell_type": "code",
   "execution_count": null,
   "id": "939feede",
   "metadata": {},
   "outputs": [],
   "source": [
    "from turtle import *\n",
    "\n",
    "def koch(len, n):\n",
    "    if n == 0:\n",
    "        forward(len)\n",
    "    else:\n",
    "        koch(len/3, n-1)\n",
    "        left(60)\n",
    "        koch(len/3, n-1)\n",
    "        left(-120)\n",
    "        koch(len/3, n-1)\n",
    "        left(60)\n",
    "        koch(len/3, n-1)\n",
    "        \n",
    "           \n",
    "n = int(input())            \n",
    "koch(300,n)\n",
    "right(120)\n",
    "koch(300,n)\n",
    "right(120)\n",
    "koch(300,n)\n",
    "hideturtle()\n",
    "done()"
   ]
  },
  {
   "cell_type": "markdown",
   "id": "4d7e5b44",
   "metadata": {},
   "source": [
    "### 9/10."
   ]
  },
  {
   "cell_type": "code",
   "execution_count": 3,
   "id": "12d83adc",
   "metadata": {},
   "outputs": [
    {
     "name": "stdout",
     "output_type": "stream",
     "text": [
      "['water', 'water', 'water', 'water', 'water', 'water', 'water', 'water', 'water', 'water']\n",
      "[]\n",
      "['water', 'water']\n",
      "['water', 'water', 'water', 'water', 'water', 'water', 'water', 'water']\n",
      "['water', 'water']\n",
      "[]\n",
      "[]\n",
      "['water', 'water']\n",
      "['water', 'water', 'water', 'water', 'water', 'water', 'water', 'water', 'water', 'water']\n",
      "['water', 'water']\n",
      "['water', 'water', 'water', 'water']\n",
      "['water', 'water', 'water', 'water', 'water', 'water', 'water', 'water']\n",
      "['water', 'water', 'water', 'water']\n",
      "[]\n",
      "[]\n",
      "['water', 'water', 'water', 'water']\n",
      "['water', 'water', 'water', 'water', 'water', 'water', 'water', 'water', 'water', 'water']\n",
      "['water', 'water', 'water', 'water']\n",
      "['water', 'water', 'water', 'water', 'water', 'water']\n",
      "['water', 'water', 'water', 'water', 'water', 'water', 'water', 'water']\n",
      "['water', 'water', 'water', 'water', 'water', 'water']\n",
      "[]\n",
      "[]\n",
      "['water', 'water', 'water', 'water', 'water', 'water']\n"
     ]
    }
   ],
   "source": [
    "str = 'water'\n",
    "leftover=0\n",
    "a=10\n",
    "b=8\n",
    "c=6\n",
    "def pourWater(bottleA):\n",
    "    k = a-len(bottleA)\n",
    "    for i in range(k):\n",
    "        bottleA.append(str)\n",
    "\n",
    "def pourFromTo1(bottleA, bottleB):\n",
    "    k1 = b-len(bottleB)\n",
    "    k2 = b-len(bottleB)\n",
    "    for i in range(k1):\n",
    "        bottleA.pop()\n",
    "    for i in range(k2):\n",
    "        bottleB.append(str)\n",
    "\n",
    "def outWater(bottleB):\n",
    "    k = b\n",
    "    for i in range(k):\n",
    "        bottleB.pop()\n",
    "\n",
    "def pourFromTo2(bottleA, bottleB):\n",
    "    k = len(bottleA)\n",
    "    for i in range(k):\n",
    "        bottleA.pop()\n",
    "        bottleB.append(str)  #print(bottleA)#print(bottleB)\n",
    "\n",
    "def option(bottleA, bottleB):\n",
    "    str = 'water'\n",
    "    leftover=0\n",
    "    a=10\n",
    "    b=8\n",
    "    c=6\n",
    "    while True:\n",
    "        pourWater(bottleA)\n",
    "        print(bottleA)\n",
    "        print(bottleB)\n",
    "        pourFromTo1(bottleA, bottleB)\n",
    "        leftover = len(bottleA)\n",
    "        print(bottleA)\n",
    "        print(bottleB)\n",
    "        \n",
    "        outWater(bottleB)\n",
    "        print(bottleA)\n",
    "        print(bottleB)\n",
    "        \n",
    "        pourFromTo2(bottleA, bottleB)\n",
    "        print(bottleA)\n",
    "        print(bottleB)\n",
    "        if leftover == c:\n",
    "            break\n",
    "\n",
    "option([], [])"
   ]
  },
  {
   "cell_type": "markdown",
   "id": "49db1f2b",
   "metadata": {},
   "source": [
    "### 11."
   ]
  },
  {
   "cell_type": "code",
   "execution_count": 2,
   "id": "66b5af6d",
   "metadata": {},
   "outputs": [
    {
     "name": "stdout",
     "output_type": "stream",
     "text": [
      "[(0, 1), (1, 0), (1, 1), (1, 0), (0, 1)]\n"
     ]
    }
   ],
   "source": [
    "delivery = [(1,0), (0,1), (1,1), (2,0), (0,2)]\n",
    "\n",
    "\n",
    "            \n",
    "\n",
    "lst=[]\n",
    "\n",
    "def crossriver(a, b):\n",
    "    if a<=0 and b<=0:\n",
    "        return\n",
    "    for i in range(len(delivery)):\n",
    "        \n",
    "        a1 = a-delivery[i][0]\n",
    "        b1 = b-delivery[i][1]\n",
    "        \n",
    "      \n",
    "        if a1==b1 or (a1==3 and b1 >=1) or (a1==0 and b1<3):\n",
    "            lst.append(delivery[i])\n",
    "            a = a1\n",
    "            b = b1\n",
    "            #print((a,b))\n",
    "            crossriver(a,b)\n",
    "            break\n",
    "\n",
    "        \n",
    "        \n",
    "        elif a1==0 and b1==0:\n",
    "            break\n",
    "crossriver(3,3)\n",
    "print(lst)"
   ]
  },
  {
   "cell_type": "markdown",
   "id": "106b3b35",
   "metadata": {},
   "source": [
    "### 12."
   ]
  },
  {
   "cell_type": "code",
   "execution_count": 1,
   "id": "58db326e",
   "metadata": {},
   "outputs": [],
   "source": [
    "import turtle\n",
    "\n",
    "class Disk(turtle.Turtle):\n",
    "    \n",
    "\n",
    "    def __init__(self, n):\n",
    "        \n",
    "        turtle.Turtle.__init__(self, shape='square', visible=False) \n",
    "        self.penup()               \n",
    "        self.sety(300)              \n",
    "        self.shapesize(1, 1.5*n, 1)\n",
    "        self.fillcolor(1, 1, 1)    \n",
    "        self.showturtle()           \n",
    "\n",
    "class Peg(turtle.Turtle, list):\n",
    "    \n",
    "    def __init__(self, n, pos):\n",
    "        \n",
    "        turtle.Turtle.__init__(self, shape='square',visible=False)\n",
    "        self.penup()              \n",
    "        self.shapesize(n*1.25,.75,1)\n",
    "        self.sety(12.5*n)         \n",
    "        self.x = pos\n",
    "        self.setx(self.x)         \n",
    "        self.showturtle()         \n",
    "\n",
    "    def push(self, disk):\n",
    "        \n",
    "        disk.setx(self.x)         \n",
    "        disk.sety(10+len(self)*25)\n",
    "        self.append(disk)         \n",
    "\n",
    "    def pop(self):\n",
    "        \n",
    "        disk = list.pop(self)     \n",
    "        disk.sety(300)            \n",
    "        return disk              \n",
    "\n",
    "def move_disk(from_peg, to_peg):\n",
    "   \n",
    "    disk = from_peg.pop()\n",
    "    to_peg.push(disk)\n",
    "\n",
    "\n",
    "def hanoi(n, peg1, peg2, peg3):\n",
    "    \n",
    "\n",
    "    \n",
    "    \n",
    "    if n > 0:\n",
    "        hanoi(n-1, peg1, peg3, peg2) \n",
    "        move_disk(peg1, peg3)\n",
    "        hanoi(n-1, peg2, peg1, peg3)\n",
    "\n",
    "def main(n):\n",
    "    \n",
    "    screen = turtle.Screen() \n",
    "    p1 = Peg(n, -200) \n",
    "    p2 = Peg(n, 0)  \n",
    "    p3 = Peg(n, 200)  \n",
    "    for i in range(n): \n",
    "        p1.push(Disk(n-i))  \n",
    "    hanoi(n, p1, p2, p3)\n",
    "    screen.bye()\n",
    "\n",
    "if __name__ == '__main__':\n",
    "   main(3)\n"
   ]
  },
  {
   "cell_type": "markdown",
   "id": "40dca147",
   "metadata": {},
   "source": [
    "### 13."
   ]
  },
  {
   "cell_type": "code",
   "execution_count": 2,
   "id": "0a21ea3e",
   "metadata": {},
   "outputs": [
    {
     "name": "stdout",
     "output_type": "stream",
     "text": [
      "5\n",
      "1\n",
      "11\n",
      "121\n",
      "1331\n",
      "14641\n"
     ]
    }
   ],
   "source": [
    "def drawpasika(n, cur):\n",
    "    if cur == n:\n",
    "        return\n",
    "    for i in range(cur+1):\n",
    "        print(int(pasikanum(cur, i)), end = '')\n",
    "    print()\n",
    "    drawpasika(n, cur+1)\n",
    "\n",
    "def pasikanum(m, n):\n",
    "    if n == 0:\n",
    "        return 1\n",
    "    if n == 1:\n",
    "        return m\n",
    "    return m / n * pasikanum(m-1,n-1)\n",
    "\n",
    "\n",
    "n = input()\n",
    "drawpasika(int(n), 0)"
   ]
  },
  {
   "cell_type": "markdown",
   "id": "10370fda",
   "metadata": {},
   "source": [
    "### 14."
   ]
  },
  {
   "cell_type": "code",
   "execution_count": 4,
   "id": "cbca2c4f",
   "metadata": {},
   "outputs": [
    {
     "data": {
      "text/plain": [
       "29"
      ]
     },
     "execution_count": 4,
     "metadata": {},
     "output_type": "execute_result"
    }
   ],
   "source": [
    "def bagproblem():\n",
    "    weight = [2, 3, 4, 5, 9]\n",
    "    value = [3, 4, 8, 8, 10]\n",
    "    bag_limit = 21\n",
    "    dp = [[0] * bag_limit for i in range(6)]\n",
    "    for i in range(1, 6):\n",
    "        for j in range(1, bag_limit):\n",
    "            if j < weight[i-1]:\n",
    "                dp[i][j] = dp[i-1][j]\n",
    "            else:\n",
    "                dp[i][j] = max(dp[i - 1][j], dp[i - 1][j - weight[i - 1]] + value[i - 1])\n",
    "                                                       \n",
    "                                \n",
    "    return dp[5][20]\n",
    "bagproblem()"
   ]
  },
  {
   "cell_type": "markdown",
   "id": "6fab3998",
   "metadata": {},
   "source": []
  },
  {
   "cell_type": "code",
   "execution_count": 6,
   "id": "d0b47606",
   "metadata": {},
   "outputs": [
    {
     "name": "stdout",
     "output_type": "stream",
     "text": [
      "12\n",
      "[1, 1, 0, 1, 0]\n"
     ]
    }
   ],
   "source": [
    "valuelist = [0, 3, 4, 8, 8, 10]\n",
    "weightlist = [0, 2, 3, 4, 5, 9]\n",
    "bag = {'0':0, '2':3, '3':4, '4':8, '5':8, '9':10}\n",
    "judge = [0,0, 0, 0,0, 0]\n",
    "\n",
    "\n",
    "def dp(i,j):\n",
    "    if i == 0:\n",
    "        return 0\n",
    "    elif j == 0:\n",
    "        return 0\n",
    "        \n",
    "    elif j < weightlist[i]:\n",
    "        judge[i] = 0\n",
    "        return dp(i-1,j)\n",
    "    else:\n",
    "        if dp(i-1,j) > dp(i-1,j-weightlist[i]) + valuelist[i]:\n",
    "            judge[i] = 0\n",
    "            return dp(i-1,j)\n",
    "        else:\n",
    "            judge[i] = 1\n",
    "            return dp(i-1,j-weightlist[i]) + valuelist[i]\n",
    "print(dp(5,8))\n",
    "print(judge[1:])\n"
   ]
  },
  {
   "cell_type": "markdown",
   "id": "03146025",
   "metadata": {},
   "source": [
    "### 15."
   ]
  },
  {
   "cell_type": "code",
   "execution_count": 7,
   "id": "90846c64",
   "metadata": {},
   "outputs": [
    {
     "name": "stdout",
     "output_type": "stream",
     "text": [
      "5\n"
     ]
    }
   ],
   "source": [
    "word1 = 'a l l i g o r i t h m'\n",
    "word2 = 'a l l i g a t o r'\n",
    "wordlist1 = word1.split(\" \")\n",
    "wordlist2 = word2.split(\" \")\n",
    "def dp(i,j):\n",
    "    if i == 0:\n",
    "        return j\n",
    "    elif j == 0:\n",
    "        return i\n",
    "    elif wordlist1[i] == wordlist2[j]:\n",
    "        return dp(i-1,j-1)\n",
    "    else:\n",
    "        judge1 = min(dp(i-1,j-1),dp(i,j-1))\n",
    "        judge2 = min(judge1,dp(i-1,j))\n",
    "        judge = judge2 + 1\n",
    "        return judge\n",
    "a = len(wordlist1)\n",
    "b = len(wordlist2)\n",
    "print(dp(a-1,b-1))\n"
   ]
  },
  {
   "cell_type": "code",
   "execution_count": null,
   "id": "03690e25",
   "metadata": {},
   "outputs": [],
   "source": []
  }
 ],
 "metadata": {
  "kernelspec": {
   "display_name": "Python 3 (ipykernel)",
   "language": "python",
   "name": "python3"
  },
  "language_info": {
   "codemirror_mode": {
    "name": "ipython",
    "version": 3
   },
   "file_extension": ".py",
   "mimetype": "text/x-python",
   "name": "python",
   "nbconvert_exporter": "python",
   "pygments_lexer": "ipython3",
   "version": "3.7.9"
  }
 },
 "nbformat": 4,
 "nbformat_minor": 5
}
